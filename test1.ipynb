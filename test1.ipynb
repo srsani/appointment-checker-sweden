{
 "cells": [
  {
   "cell_type": "code",
   "execution_count": 1,
   "id": "03457b67",
   "metadata": {},
   "outputs": [],
   "source": [
    "from webdriver_manager.chrome import ChromeDriverManager\n",
    "from selenium.webdriver.support import expected_conditions as EC\n",
    "from selenium.webdriver.support.ui import WebDriverWait\n",
    "from twilio.rest import Client"
   ]
  },
  {
   "cell_type": "code",
   "execution_count": 2,
   "id": "59ae1cec",
   "metadata": {},
   "outputs": [],
   "source": [
    "from webdriver_manager.chrome import ChromeDriverManager\n",
    "from selenium.webdriver.support import expected_conditions as EC\n",
    "from selenium.webdriver.support.ui import WebDriverWait\n",
    "from twilio.rest import Client\n",
    "\n",
    "from selenium import webdriver\n",
    "from selenium_stealth import stealth\n",
    "from selenium.webdriver.common.by import By\n",
    "from bs4 import BeautifulSoup\n",
    "import time\n",
    "import re\n",
    "from datetime import date\n",
    "import logging\n",
    "import os \n",
    "import boto3\n",
    "import json\n",
    "import time\n",
    "import random\n",
    "import datetime\n",
    "\n",
    "client = Client(os.environ['TWILIO_ACCOUNT_SID'], \n",
    "               os.environ['TWILIO_AUTH_TOKEN'])\n",
    "\n",
    "text_body = f\"\"\"\n",
    "swedish appointment might be available! \\n\n",
    "\n",
    "https://www.migrationsverket.se/ansokanbokning/omboka?enhet=UM&sprak=en&callback=http://www.swedenabroad.com/ \\n\n",
    "SHRB-1409 \\n\n",
    "srsani@gmail.com\n",
    "\n",
    "\"\"\"\n"
   ]
  },
  {
   "cell_type": "code",
   "execution_count": 3,
   "id": "58bc9765",
   "metadata": {},
   "outputs": [],
   "source": [
    "def __get_default_chrome_options():\n",
    "        chrome_options = webdriver.ChromeOptions()\n",
    "        lambda_options = [\n",
    "            '--autoplay-policy=user-gesture-required',\n",
    "            '--disable-background-networking',\n",
    "            '--disable-background-timer-throttling',\n",
    "            '--disable-backgrounding-occluded-windows',\n",
    "            '--disable-breakpad',\n",
    "            '--disable-client-side-phishing-detection',\n",
    "            '--disable-component-update',\n",
    "            '--disable-default-apps',\n",
    "            '--disable-dev-shm-usage',\n",
    "            '--disable-domain-reliability',\n",
    "            '--disable-extensions',\n",
    "            '--disable-features=AudioServiceOutOfProcess',\n",
    "            '--disable-hang-monitor',\n",
    "            '--disable-ipc-flooding-protection',\n",
    "            '--disable-notifications',\n",
    "            '--disable-offer-store-unmasked-wallet-cards',\n",
    "            '--disable-popup-blocking',\n",
    "            '--disable-print-preview',\n",
    "            '--disable-prompt-on-repost',\n",
    "            '--disable-renderer-backgrounding',\n",
    "            '--disable-setuid-sandbox',\n",
    "            '--disable-speech-api',\n",
    "            '--disable-sync',\n",
    "            '--disk-cache-size=33554432',\n",
    "            '--hide-scrollbars',\n",
    "            '--ignore-gpu-blacklist',\n",
    "            '--ignore-certificate-errors',\n",
    "            '--metrics-recording-only',\n",
    "            '--mute-audio',\n",
    "            '--no-default-browser-check',\n",
    "            '--no-first-run',\n",
    "            '--no-pings',\n",
    "            '--no-sandbox',\n",
    "            '--no-zygote',\n",
    "            '--password-store=basic',\n",
    "            '--use-gl=swiftshader',\n",
    "            '--use-mock-keychain',\n",
    "            '--single-process',\n",
    "            '--headless']\n",
    "\n",
    "        #chrome_options.add_argument('--disable-gpu')\n",
    "        for argument in lambda_options:\n",
    "            chrome_options.add_argument(argument)\n",
    "        return chrome_options"
   ]
  },
  {
   "cell_type": "code",
   "execution_count": 4,
   "id": "c05664c1",
   "metadata": {},
   "outputs": [],
   "source": [
    "def main():\n",
    "    driver = webdriver.Chrome(ChromeDriverManager().install(), options=__get_default_chrome_options())\n",
    "    stealth(driver,\n",
    "            languages=[\"en-US\", \"en\"],\n",
    "            vendor=\"Google Inc.\",\n",
    "            platform=\"Win32\",\n",
    "            webgl_vendor=\"Intel Inc.\",\n",
    "            renderer=\"Intel Iris OpenGL Engine\",\n",
    "            fix_hairline=True,\n",
    "    )\n",
    "    driver.get(\"https://www.migrationsverket.se/ansokanbokning/omboka?enhet=UM&sprak=en&callback=http://www.swedenabroad.com/\")\n",
    "    \n",
    "    # add input to the form\n",
    "    input_field_1 = driver.find_element(By.ID, \"bokningsnummer\")\n",
    "    input_field_1.send_keys('SHRB-1409')\n",
    "\n",
    "    input_field_2 = driver.find_element(By.ID, \"epost\")\n",
    "    input_field_2.send_keys('srsani@gmail.com')\n",
    "    \n",
    "    # click the next button\n",
    "    next_button = driver.find_element_by_xpath('//input[@value=\"Next\"]')\n",
    "    next_button.click()\n",
    "    \n",
    "    # Locate the li element by class name\n",
    "    feedback_elements = driver.find_elements_by_class_name('feedbackPanelERROR')\n",
    "\n",
    "    # Check if the expected message exists\n",
    "    for element in feedback_elements:\n",
    "        if \"At the moment, there are no available time slots.\" in element.text:\n",
    "            print(\"no available time slots!\")\n",
    "            break\n",
    "    else:\n",
    "        print(\"Feedback message not found.\")\n",
    "\n",
    "        message = client.messages.create(body=text_body,\n",
    "                                          from_='+447897037940',\n",
    "                                          to='+447852255962'\n",
    "                          )\n",
    "        message = client.messages.create(body=text_body,\n",
    "                                          from_='+447897037940',\n",
    "                                          to='+447852255962'\n",
    "                          )\n",
    "    "
   ]
  },
  {
   "cell_type": "code",
   "execution_count": 5,
   "id": "2504775b",
   "metadata": {},
   "outputs": [
    {
     "name": "stdout",
     "output_type": "stream",
     "text": [
      "no available time slots!\n",
      "no available time slots!\n",
      "no available time slots!\n",
      "no available time slots!\n"
     ]
    },
    {
     "ename": "KeyboardInterrupt",
     "evalue": "",
     "output_type": "error",
     "traceback": [
      "\u001b[0;31m---------------------------------------------------------------------------\u001b[0m",
      "\u001b[0;31mKeyboardInterrupt\u001b[0m                         Traceback (most recent call last)",
      "Cell \u001b[0;32mIn[5], line 6\u001b[0m\n\u001b[1;32m      3\u001b[0m interval \u001b[38;5;241m=\u001b[39m random\u001b[38;5;241m.\u001b[39mrandint(\u001b[38;5;241m10\u001b[39m, \u001b[38;5;241m15\u001b[39m)\n\u001b[1;32m      5\u001b[0m \u001b[38;5;66;03m# Wait for the interval\u001b[39;00m\n\u001b[0;32m----> 6\u001b[0m \u001b[43mtime\u001b[49m\u001b[38;5;241;43m.\u001b[39;49m\u001b[43msleep\u001b[49m\u001b[43m(\u001b[49m\u001b[43minterval\u001b[49m\u001b[43m)\u001b[49m\n\u001b[1;32m      8\u001b[0m \u001b[38;5;66;03m# Run the function\u001b[39;00m\n\u001b[1;32m      9\u001b[0m main()\n",
      "\u001b[0;31mKeyboardInterrupt\u001b[0m: "
     ]
    }
   ],
   "source": [
    "while True:\n",
    "    # Generate a random interval between 10 to 15 minutes (600 to 900 seconds)\n",
    "    interval = random.randint(600, 900)\n",
    "    \n",
    "    # Wait for the interval\n",
    "    time.sleep(inbterval)\n",
    "    \n",
    "    # Run the function\n",
    "    main()\n",
    "    "
   ]
  },
  {
   "cell_type": "code",
   "execution_count": 6,
   "id": "857fec52",
   "metadata": {},
   "outputs": [],
   "source": [
    "now = datetime.datetime.now()"
   ]
  },
  {
   "cell_type": "code",
   "execution_count": 7,
   "id": "ae980c45",
   "metadata": {},
   "outputs": [
    {
     "data": {
      "text/plain": [
       "6"
      ]
     },
     "execution_count": 7,
     "metadata": {},
     "output_type": "execute_result"
    }
   ],
   "source": [
    "now.weekday() "
   ]
  },
  {
   "cell_type": "code",
   "execution_count": 8,
   "id": "9b4bfd57",
   "metadata": {},
   "outputs": [
    {
     "data": {
      "text/plain": [
       "8"
      ]
     },
     "execution_count": 8,
     "metadata": {},
     "output_type": "execute_result"
    }
   ],
   "source": [
    "now.hour"
   ]
  },
  {
   "cell_type": "code",
   "execution_count": 9,
   "id": "b8d19995",
   "metadata": {},
   "outputs": [],
   "source": [
    "def send_message(text_body, cell_nums):\n",
    "\n",
    "    for cell_num in cell_nums:\n",
    "        _ = client.messages.create(\n",
    "            body=text_body,\n",
    "            from_='+447897037940',\n",
    "            to=cell_num\n",
    "        )\n",
    "    return True"
   ]
  },
  {
   "cell_type": "code",
   "execution_count": 12,
   "id": "c787d839",
   "metadata": {},
   "outputs": [
    {
     "data": {
      "text/plain": [
       "True"
      ]
     },
     "execution_count": 12,
     "metadata": {},
     "output_type": "execute_result"
    }
   ],
   "source": [
    "send_message(text_body=text_body,\n",
    "                         cell_nums=[\n",
    "                             '+447852255962'])"
   ]
  },
  {
   "cell_type": "code",
   "execution_count": 13,
   "id": "1296b060",
   "metadata": {},
   "outputs": [],
   "source": [
    "tomorrow = now + datetime.timedelta(days=1)\n",
    "eight_am_tomorrow = tomorrow.replace(hour=8, minute=0, second=0, microsecond=0)\n",
    "sleep_seconds = (eight_am_tomorrow - now).seconds"
   ]
  },
  {
   "cell_type": "code",
   "execution_count": 14,
   "id": "d3df81f5",
   "metadata": {},
   "outputs": [
    {
     "data": {
      "text/plain": [
       "datetime.datetime(2023, 9, 18, 8, 56, 33, 540515)"
      ]
     },
     "execution_count": 14,
     "metadata": {},
     "output_type": "execute_result"
    }
   ],
   "source": [
    "tomorrow"
   ]
  },
  {
   "cell_type": "code",
   "execution_count": 15,
   "id": "8aea92d8",
   "metadata": {},
   "outputs": [
    {
     "data": {
      "text/plain": [
       "datetime.datetime(2023, 9, 18, 8, 0)"
      ]
     },
     "execution_count": 15,
     "metadata": {},
     "output_type": "execute_result"
    }
   ],
   "source": [
    "eight_am_tomorrow"
   ]
  },
  {
   "cell_type": "code",
   "execution_count": null,
   "id": "e8902990",
   "metadata": {},
   "outputs": [],
   "source": []
  }
 ],
 "metadata": {
  "kernelspec": {
   "display_name": "appointment-checker",
   "language": "python",
   "name": "appointment-checker"
  },
  "language_info": {
   "codemirror_mode": {
    "name": "ipython",
    "version": 3
   },
   "file_extension": ".py",
   "mimetype": "text/x-python",
   "name": "python",
   "nbconvert_exporter": "python",
   "pygments_lexer": "ipython3",
   "version": "3.8.16"
  }
 },
 "nbformat": 4,
 "nbformat_minor": 5
}
